{
 "cells": [
  {
   "cell_type": "code",
   "execution_count": null,
   "metadata": {},
   "outputs": [],
   "source": [
    "def jogar():\n",
    "\n",
    "    print(\"\\n\\n\")\n",
    "    print (\"Bem vindo ao jogo da forca.\")\n",
    "    print(\"\\n\")\n",
    "\n",
    "\n",
    "    print(\"\\nFim de Jogo.\")\n",
    "\n",
    "if(__name__ == \"__main__\"):\n",
    "    jogar()"
   ]
  },
  {
   "cell_type": "markdown",
   "metadata": {},
   "source": [
    "- Em um primeiro momento vamos definir a palavra secreta.\n",
    "- O jogo continua enquanto: O jogador não tiver se enforcado E enquanto não tiver acertado a palavra secreta."
   ]
  },
  {
   "cell_type": "code",
   "execution_count": null,
   "metadata": {},
   "outputs": [],
   "source": [
    "def jogar():\n",
    "\n",
    "    print(\"\\n\\n\")\n",
    "    print (\"Bem vindo ao jogo da forca.\")\n",
    "    print(\"\\n\")\n",
    "\n",
    "    palavra_secreta = 'banana'\n",
    "    enforcado = False\n",
    "    acertou = False\n",
    "\n",
    "    while((enforcado == False) and (acertou == False)):\n",
    "\n",
    "\n",
    "\n",
    "    print(\"\\nFim de Jogo.\")\n",
    "\n",
    "if(__name__ == \"__main__\"):\n",
    "    jogar()"
   ]
  },
  {
   "cell_type": "markdown",
   "metadata": {},
   "source": [
    "- Conhecendo a função find(): \n",
    "  Usaremos a função find(), que nos retorna '-1' caso a letra não pertença a palavra OU retorna o posição, da primeira ocorrÊncia, em que essa letra se encontra na palavra."
   ]
  },
  {
   "cell_type": "code",
   "execution_count": null,
   "metadata": {},
   "outputs": [],
   "source": [
    "# Teste\n",
    "\n",
    "x = 'carro'\n",
    "\n",
    "chute = input(\"Digite uma letra:\")\n",
    "\n",
    "x.find(chute)"
   ]
  },
  {
   "cell_type": "markdown",
   "metadata": {},
   "source": [
    "- Vamos solicitar ao usuário um input.\n",
    "- vamos verificar se o chute informado pelo usuário faz parte da palavra secreta. Caso faça parte informaremos em que posição essa letra se encontra."
   ]
  },
  {
   "cell_type": "code",
   "execution_count": null,
   "metadata": {},
   "outputs": [],
   "source": [
    "def jogar():\n",
    "\n",
    "    print(\"\\n\\n\")\n",
    "    print (\"Bem vindo ao jogo da forca.\")\n",
    "    print(\"\\n\")\n",
    "\n",
    "    \n",
    "    palavra_secreta = 'banana'\n",
    "    enforcado = False\n",
    "    acertou = False\n",
    "\n",
    "    while((enforcado == False) and (acertou == False)):\n",
    "        index = 0                                                           # se o index for declarado antes do while retornará a posição errada.\n",
    "        chute = (input(\"Digite uma letra:\")).lower().strip()\n",
    "        for letra in palavra_secreta:\n",
    "            if (letra == chute):\n",
    "                print( f\"A letra {chute} foi encontrada na posição {index}\")\n",
    "            index = index + 1\n",
    "        print(\"Tente novamente.\")\n",
    "\n",
    "    print(\"\\nFim de Jogo.\")\n",
    "\n",
    "if(__name__ == \"__main__\"):\n",
    "    jogar()"
   ]
  },
  {
   "cell_type": "markdown",
   "metadata": {},
   "source": [
    "- Agora usaremos uma lista para guardar os valores que o usuário acertou:"
   ]
  },
  {
   "cell_type": "code",
   "execution_count": null,
   "metadata": {},
   "outputs": [],
   "source": [
    "palavra_secreta = 'banana'\n",
    "lista = []\n",
    "\n",
    "for letra in palavra_secreta:\n",
    "    lista.append('_')\n",
    "\n",
    "lista\n"
   ]
  },
  {
   "cell_type": "code",
   "execution_count": null,
   "metadata": {},
   "outputs": [],
   "source": [
    "def jogar():\n",
    "\n",
    "    print(\"\\n\\n\")\n",
    "    print (\"Bem vindo ao jogo da forca.\")\n",
    "    print(\"\\n\")\n",
    "\n",
    "    \n",
    "    palavra_secreta = 'banana'\n",
    "    enforcado = False\n",
    "    acertou = False\n",
    "\n",
    "    lista = []\n",
    "\n",
    "    for letra in palavra_secreta:                                           # para colocar a quantidade de \"_\" de acordo com o tamanho da palavra secreta!\n",
    "        lista.append('_')\n",
    "    \n",
    "    print (lista)\n",
    "\n",
    "    while((enforcado == False) and (acertou == False)):\n",
    "        index = 0                                                           # se o index for declarado antes do while retornará a posição errada.\n",
    "        chute = (input(\"Digite uma letra:\\n\")).lower().strip()\n",
    "        for letra in palavra_secreta:\n",
    "            if (letra == chute):\n",
    "                lista.pop(index)                                            # Retira o '_' na posição indicada e na linha abaixo é substituida pela letra correspondente.\n",
    "                lista.insert(index, chute)\n",
    "            index = index + 1\n",
    "        print(lista)\n",
    "        \n",
    "    print(\"\\nFim de Jogo.\")\n",
    "\n",
    "if(__name__ == \"__main__\"):\n",
    "    jogar()"
   ]
  },
  {
   "cell_type": "markdown",
   "metadata": {},
   "source": [
    "- Vamos ver como funciona a função count(): conta a quantidade de ocorrencias do argumento."
   ]
  },
  {
   "cell_type": "code",
   "execution_count": null,
   "metadata": {},
   "outputs": [],
   "source": [
    "valores = [ 0, 0, 0, 1, 2, 3, 4, 8, 8 , 10]\n",
    "print(valores.count(8))\n",
    "\n",
    "# isso pode ser útil para verificar se o jogador já acertou a palavra ou não!"
   ]
  },
  {
   "cell_type": "markdown",
   "metadata": {},
   "source": [
    "- Vamos incluir a verificação que permite perceber se o jogador já acertou a palavra ou não (com o uso do count())"
   ]
  },
  {
   "cell_type": "code",
   "execution_count": null,
   "metadata": {},
   "outputs": [],
   "source": [
    "def jogar():\n",
    "\n",
    "    print(\"\\n\\n\")\n",
    "    print (\"Bem vindo ao jogo da forca.\")\n",
    "    print(\"\\n\")\n",
    "\n",
    "    \n",
    "    palavra_secreta = 'banana'\n",
    "    enforcado = False\n",
    "    acertou = False\n",
    "    numero_da_tentativa = 1                                                 # se eu colocar esse index dentro do wile da errado!! PQ??\n",
    "\n",
    "    lista = []\n",
    "\n",
    "    for letra in palavra_secreta:                                           # para colocar a quantidade de \"_\" de acordo com o tamanho da palavra secreta!\n",
    "        lista.append('_')\n",
    "    \n",
    "    print (lista)\n",
    "\n",
    "    while((enforcado == False) and (acertou == False)):\n",
    "        \n",
    "        index = 0                                                               # se o index for declarado antes do while retornará a posição errada.\n",
    "        chute = (input(\"Digite uma letra:\\n\")).lower().strip()\n",
    "        for letra in palavra_secreta:\n",
    "            if (letra == chute):\n",
    "                lista.pop(index)                                            # Retira o '_' na posição indicada e na linha abaixo é substituida pela letra correspondente.\n",
    "                lista.insert(index, chute)\n",
    "            index = index + 1\n",
    "\n",
    "        if(lista.count(\"_\")) == 0:\n",
    "            print(f\"Tentativa {numero_da_tentativa}\")\n",
    "            print(lista)\n",
    "            print(\"\\nParabéns! Você acertou a palavra.\")\n",
    "            break\n",
    "        else:\n",
    "            print(f\"Tentativa {numero_da_tentativa}\")\n",
    "            print(lista)\n",
    "        numero_da_tentativa = numero_da_tentativa + 1\n",
    "    \n",
    "    print(\"Fim de Jogo!\")\n",
    "\n",
    "if(__name__ == \"__main__\"):\n",
    "    jogar()"
   ]
  }
 ],
 "metadata": {
  "kernelspec": {
   "display_name": "Python 3",
   "language": "python",
   "name": "python3"
  },
  "language_info": {
   "codemirror_mode": {
    "name": "ipython",
    "version": 3
   },
   "file_extension": ".py",
   "mimetype": "text/x-python",
   "name": "python",
   "nbconvert_exporter": "python",
   "pygments_lexer": "ipython3",
   "version": "3.11.8"
  }
 },
 "nbformat": 4,
 "nbformat_minor": 2
}
