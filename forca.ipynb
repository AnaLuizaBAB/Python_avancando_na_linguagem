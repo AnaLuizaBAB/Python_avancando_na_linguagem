{
 "cells": [
  {
   "cell_type": "code",
   "execution_count": null,
   "metadata": {},
   "outputs": [],
   "source": [
    "def jogar():\n",
    "\n",
    "    print(\"\\n\\n\")\n",
    "    print (\"Bem vindo ao jogo da forca.\")\n",
    "    print(\"\\n\")\n",
    "\n",
    "\n",
    "    print(\"\\nFim de Jogo.\")\n",
    "\n",
    "if(__name__ == \"__main__\"):\n",
    "    jogar()"
   ]
  },
  {
   "cell_type": "markdown",
   "metadata": {},
   "source": [
    "- Em um primeiro momento vamos definir a palavra secreta.\n",
    "- O jogo continua enquanto: O jogador não tiver se enforcado E enquanto não tiver acertado a palavra secreta."
   ]
  },
  {
   "cell_type": "code",
   "execution_count": null,
   "metadata": {},
   "outputs": [],
   "source": [
    "def jogar():\n",
    "\n",
    "    print(\"\\n\\n\")\n",
    "    print (\"Bem vindo ao jogo da forca.\")\n",
    "    print(\"\\n\")\n",
    "\n",
    "    enforcado = False\n",
    "    acertou = False\n",
    "\n",
    "    while((enforcado == False) and (acertou == False)):\n",
    "\n",
    "        palavra_secreta = 'banana'\n",
    "\n",
    "\n",
    "    print(\"\\nFim de Jogo.\")\n",
    "\n",
    "if(__name__ == \"__main__\"):\n",
    "    jogar()"
   ]
  }
 ],
 "metadata": {
  "kernelspec": {
   "display_name": "Python 3",
   "language": "python",
   "name": "python3"
  },
  "language_info": {
   "codemirror_mode": {
    "name": "ipython",
    "version": 3
   },
   "file_extension": ".py",
   "mimetype": "text/x-python",
   "name": "python",
   "nbconvert_exporter": "python",
   "pygments_lexer": "ipython3",
   "version": "3.11.7"
  }
 },
 "nbformat": 4,
 "nbformat_minor": 2
}
