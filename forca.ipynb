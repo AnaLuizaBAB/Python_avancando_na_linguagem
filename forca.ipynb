{
 "cells": [
  {
   "cell_type": "code",
   "execution_count": null,
   "metadata": {},
   "outputs": [],
   "source": [
    "def jogar():\n",
    "\n",
    "    print(\"\\n\\n\")\n",
    "    print (\"Bem vindo ao jogo da forca.\")\n",
    "    print(\"\\n\")\n",
    "\n",
    "\n",
    "    print(\"\\nFim de Jogo.\")\n",
    "\n",
    "if(__name__ == \"__main__\"):\n",
    "    jogar()"
   ]
  },
  {
   "cell_type": "markdown",
   "metadata": {},
   "source": [
    "- Em um primeiro momento vamos definir a palavra secreta.\n",
    "- O jogo continua enquanto: O jogador não tiver se enforcado E enquanto não tiver acertado a palavra secreta."
   ]
  },
  {
   "cell_type": "code",
   "execution_count": null,
   "metadata": {},
   "outputs": [],
   "source": [
    "def jogar():\n",
    "\n",
    "    print(\"\\n\\n\")\n",
    "    print (\"Bem vindo ao jogo da forca.\")\n",
    "    print(\"\\n\")\n",
    "\n",
    "    palavra_secreta = 'banana'\n",
    "    enforcado = False\n",
    "    acertou = False\n",
    "\n",
    "    while((enforcado == False) and (acertou == False)):\n",
    "\n",
    "\n",
    "\n",
    "    print(\"\\nFim de Jogo.\")\n",
    "\n",
    "if(__name__ == \"__main__\"):\n",
    "    jogar()"
   ]
  },
  {
   "cell_type": "markdown",
   "metadata": {},
   "source": [
    "- Conhecendo a função find(): \n",
    "  Usaremos a função find(), que nos retorna '-1' caso a letra não pertença a palavra OU retorna o posição em que essa letra se encontra na palavra."
   ]
  },
  {
   "cell_type": "code",
   "execution_count": null,
   "metadata": {},
   "outputs": [],
   "source": [
    "# Teste\n",
    "\n",
    "x = 'carro'\n",
    "\n",
    "chute = input(\"Digite uma letra:\")\n",
    "\n",
    "x.find(chute)"
   ]
  },
  {
   "cell_type": "markdown",
   "metadata": {},
   "source": [
    "- Vamos solicitar ao usuário um input.\n",
    "- vamos verificar se o chute informado pelo usuário faz parte da palavra secreta. Caso faça parte informaremos em que posição essa letra se encontra."
   ]
  },
  {
   "cell_type": "code",
   "execution_count": null,
   "metadata": {},
   "outputs": [],
   "source": [
    "def jogar():\n",
    "\n",
    "    print(\"\\n\\n\")\n",
    "    print (\"Bem vindo ao jogo da forca.\")\n",
    "    print(\"\\n\")\n",
    "\n",
    "    \n",
    "    palavra_secreta = 'banana'\n",
    "    enforcado = False\n",
    "    acertou = False\n",
    "\n",
    "    while((enforcado == False) and (acertou == False)):\n",
    "        index = 0                                                           # se o index for declarado antes do while retornará a posição errada.\n",
    "        chute = input(\"Digite uma letra:\")\n",
    "        for letra in palavra_secreta:\n",
    "            if (letra == chute):\n",
    "                print( f\"A letra {chute} foi encontrada na posição {index}\")\n",
    "            index = index + 1\n",
    "        \n",
    "        print('Jogando...')\n",
    "\n",
    "    print(\"\\nFim de Jogo.\")\n",
    "\n",
    "if(__name__ == \"__main__\"):\n",
    "    jogar()"
   ]
  },
  {
   "cell_type": "code",
   "execution_count": null,
   "metadata": {},
   "outputs": [],
   "source": []
  },
  {
   "cell_type": "code",
   "execution_count": null,
   "metadata": {},
   "outputs": [],
   "source": []
  }
 ],
 "metadata": {
  "kernelspec": {
   "display_name": "Python 3",
   "language": "python",
   "name": "python3"
  },
  "language_info": {
   "codemirror_mode": {
    "name": "ipython",
    "version": 3
   },
   "file_extension": ".py",
   "mimetype": "text/x-python",
   "name": "python",
   "nbconvert_exporter": "python",
   "pygments_lexer": "ipython3",
   "version": "3.11.7"
  }
 },
 "nbformat": 4,
 "nbformat_minor": 2
}
